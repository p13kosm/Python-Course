{
 "cells": [
  {
   "cell_type": "code",
   "execution_count": null,
   "id": "fe26b4a5",
   "metadata": {},
   "outputs": [],
   "source": [
    "def myfunc(a):\n",
    "    if a == True:\n",
    "        return 'Hello'\n",
    "    elif a == False:\n",
    "        return 'Goodbye'"
   ]
  },
  {
   "cell_type": "code",
   "execution_count": null,
   "id": "a9b19d28",
   "metadata": {},
   "outputs": [],
   "source": [
    "myfunc(False)"
   ]
  },
  {
   "cell_type": "code",
   "execution_count": null,
   "id": "d4c4e918",
   "metadata": {},
   "outputs": [],
   "source": [
    "def myfunc(x,y,z):\n",
    "    if z:\n",
    "        # print(x)\n",
    "        return x\n",
    "    else:\n",
    "        # print(y)\n",
    "        return y"
   ]
  },
  {
   "cell_type": "code",
   "execution_count": null,
   "id": "3af89243",
   "metadata": {},
   "outputs": [],
   "source": [
    "myfunc('hello','goodbye',False)"
   ]
  },
  {
   "cell_type": "code",
   "execution_count": null,
   "id": "737ee078",
   "metadata": {},
   "outputs": [],
   "source": [
    "def is_even(a):\n",
    "    if a % 2 == 0:\n",
    "        return True\n",
    "    else:\n",
    "        return False"
   ]
  },
  {
   "cell_type": "code",
   "execution_count": null,
   "id": "49474e0d",
   "metadata": {},
   "outputs": [],
   "source": [
    "is_even(351432164653165465133546148947563145646512314674651456423165845656456165431564354847561432145469478756461432133)"
   ]
  },
  {
   "cell_type": "code",
   "execution_count": 4,
   "id": "46bd9434",
   "metadata": {},
   "outputs": [],
   "source": [
    "def myfunc(*args):\n",
    "    evens = []\n",
    "    for num in args:\n",
    "        if num % 2 ==0:\n",
    "            evens.append(num)\n",
    "    return evens\n",
    "        "
   ]
  },
  {
   "cell_type": "code",
   "execution_count": 6,
   "id": "affa44e1",
   "metadata": {},
   "outputs": [
    {
     "data": {
      "text/plain": [
       "[10, 20, 76, 1234, 8978]"
      ]
     },
     "execution_count": 6,
     "metadata": {},
     "output_type": "execute_result"
    }
   ],
   "source": [
    "myfunc(10,20,43,5643,76,1234,45,67,8978)"
   ]
  },
  {
   "cell_type": "code",
   "execution_count": 23,
   "id": "63246db5",
   "metadata": {},
   "outputs": [],
   "source": [
    "def myfunc(x):\n",
    "    out = []\n",
    "    for i in range(len(x)):\n",
    "        if i%2==0:\n",
    "            out.append(x[i].lower())\n",
    "        else:\n",
    "            out.append(x[i].upper())\n",
    "    return ''.join(out)"
   ]
  },
  {
   "cell_type": "code",
   "execution_count": 24,
   "id": "c6bc78b8",
   "metadata": {},
   "outputs": [
    {
     "data": {
      "text/plain": [
       "'aFdJsFbDjSf'"
      ]
     },
     "execution_count": 24,
     "metadata": {},
     "output_type": "execute_result"
    }
   ],
   "source": [
    "myfunc('afdjsfbdjsf')"
   ]
  },
  {
   "cell_type": "code",
   "execution_count": 31,
   "id": "5fbbc0cd",
   "metadata": {},
   "outputs": [
    {
     "data": {
      "text/plain": [
       "8"
      ]
     },
     "execution_count": 31,
     "metadata": {},
     "output_type": "execute_result"
    }
   ],
   "source": [
    "len('theofilo')"
   ]
  },
  {
   "cell_type": "code",
   "execution_count": null,
   "id": "64832f7b",
   "metadata": {},
   "outputs": [],
   "source": []
  }
 ],
 "metadata": {
  "kernelspec": {
   "display_name": "Python 3 (ipykernel)",
   "language": "python",
   "name": "python3"
  },
  "language_info": {
   "codemirror_mode": {
    "name": "ipython",
    "version": 3
   },
   "file_extension": ".py",
   "mimetype": "text/x-python",
   "name": "python",
   "nbconvert_exporter": "python",
   "pygments_lexer": "ipython3",
   "version": "3.9.7"
  }
 },
 "nbformat": 4,
 "nbformat_minor": 5
}
